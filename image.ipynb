{
 "cells": [
  {
   "cell_type": "code",
   "execution_count": 32,
   "metadata": {},
   "outputs": [
    {
     "name": "stdout",
     "output_type": "stream",
     "text": [
      "Не знайдено обличчя на фото training_data\\andrii (1).jpg\n",
      "Не знайдено обличчя на фото training_data\\andrii (4).jpg\n"
     ]
    }
   ],
   "source": [
    "import cv2\n",
    "import os\n",
    "\n",
    "def center_and_crop_face(image_path):\n",
    "    face_cascade = cv2.CascadeClassifier(cv2.data.haarcascades + 'haarcascade_frontalface_default.xml')\n",
    "    img = cv2.imread(image_path)\n",
    "    gray = cv2.cvtColor(img, cv2.COLOR_BGR2GRAY)\n",
    "    faces = face_cascade.detectMultiScale(gray, 1.1, 4)\n",
    "    \n",
    "    if len(faces) == 0:\n",
    "        print(f\"Не знайдено обличчя на фото {image_path}\")\n",
    "        return None\n",
    "\n",
    "    x, y, w, h = faces[0]\n",
    "\n",
    "    face_center = (x + w // 2, y + h // 2)\n",
    "    size = 400\n",
    "    start_x = max(face_center[0] - size // 2, 0)\n",
    "    start_y = max(face_center[1] - size // 2, 0)\n",
    "    cropped_img = img[start_y:start_y + size, start_x:start_x + size]\n",
    "\n",
    "    gray_cropped_img = cv2.cvtColor(cropped_img, cv2.COLOR_BGR2GRAY)\n",
    "\n",
    "    return gray_cropped_img\n",
    "\n",
    "input_folder = \"training_data\"\n",
    "output_folder = \"output_images\"\n",
    "if not os.path.exists(output_folder):\n",
    "    os.makedirs(output_folder)\n",
    "\n",
    "for filename in os.listdir(input_folder):\n",
    "    if filename.endswith(\".jpg\"):\n",
    "        name = filename.split('.')[0]\n",
    "        image_path = os.path.join(input_folder, filename)\n",
    "        processed_img = center_and_crop_face(image_path)\n",
    "        \n",
    "        if processed_img is not None:\n",
    "            output_filename = f\"processed_{filename}\"\n",
    "            output_path = os.path.join(output_folder, output_filename)\n",
    "            cv2.imwrite(output_path, processed_img)\n"
   ]
  }
 ],
 "metadata": {
  "kernelspec": {
   "display_name": "Python 3",
   "language": "python",
   "name": "python3"
  },
  "language_info": {
   "codemirror_mode": {
    "name": "ipython",
    "version": 3
   },
   "file_extension": ".py",
   "mimetype": "text/x-python",
   "name": "python",
   "nbconvert_exporter": "python",
   "pygments_lexer": "ipython3",
   "version": "3.11.9"
  }
 },
 "nbformat": 4,
 "nbformat_minor": 2
}
